{
 "cells": [
  {
   "cell_type": "code",
   "execution_count": 3,
   "metadata": {
    "collapsed": true
   },
   "outputs": [],
   "source": [
    "from sklearn.decomposition import NMF\n",
    "import pandas as pd\n",
    "import gensim\n",
    "from gensim.models import KeyedVectors\n",
    "\n",
    "import os\n",
    "from scipy import sparse"
   ]
  },
  {
   "cell_type": "code",
   "execution_count": null,
   "metadata": {
    "collapsed": true
   },
   "outputs": [],
   "source": [
    "dim = 500\n",
    "\n",
    "sparse_pmim = sparse.load_npz(\"your_pmi_name.npz\")\n",
    "\n",
    "model = NMF(n_components=dim, init='nndsvda', random_state=0)\n",
    "W = model.fit_transform(sparse_pmim)\n",
    "H = model.components_"
   ]
  },
  {
   "cell_type": "code",
   "execution_count": null,
   "metadata": {
    "collapsed": true
   },
   "outputs": [],
   "source": [
    "my_data = pd.DataFrame(W)\n",
    "my_data.to_csv('your_nmf_vectors', sep=\" \", index=False, header=False)"
   ]
  },
  {
   "cell_type": "markdown",
   "metadata": {},
   "source": [
    "** Here, you should type to terminal:**\n",
    "\n",
    "**paste -d ' ' your_column_name your_nmf_vectors > your_nmf_file_for_gensim**\n",
    "#dim1, dim2 = shape of W matrix \n",
    "\n",
    "**sed -i '1i dim1 dim2' your_nmf_file_for_gensim **\n",
    "\n"
   ]
  },
  {
   "cell_type": "code",
   "execution_count": null,
   "metadata": {
    "collapsed": true
   },
   "outputs": [],
   "source": [
    "model = gensim.models.KeyedVectors.load_word2vec_format('your_nmf_file_for_gensim', binary=False)\n",
    "test_data_dir = '{}'.format(os.sep).join([gensim.__path__[0], 'test', 'test_data']) + os.sep\n",
    "print(test_data_dir)\n",
    "model.evaluate_word_pairs(test_data_dir +'wordsim353.tsv')"
   ]
  },
  {
   "cell_type": "code",
   "execution_count": null,
   "metadata": {
    "collapsed": true
   },
   "outputs": [],
   "source": [
    "acc = model2.accuracy(test_data_dir + 'questions-words.txt')\n",
    "corr_num = sum([len(section[\"correct\"]) for section in acc])\n",
    "incorr_num = sum([len(section[\"incorrect\"]) for section in acc])\n",
    "print(corr_num/(corr_num+incorr_num))"
   ]
  }
 ],
 "metadata": {
  "kernelspec": {
   "display_name": "Python 3",
   "language": "python",
   "name": "python3"
  },
  "language_info": {
   "codemirror_mode": {
    "name": "ipython",
    "version": 3
   },
   "file_extension": ".py",
   "mimetype": "text/x-python",
   "name": "python",
   "nbconvert_exporter": "python",
   "pygments_lexer": "ipython3",
   "version": "3.5.2"
  }
 },
 "nbformat": 4,
 "nbformat_minor": 2
}

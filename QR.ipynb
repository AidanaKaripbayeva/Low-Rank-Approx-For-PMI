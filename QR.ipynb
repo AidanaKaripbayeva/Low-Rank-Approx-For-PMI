{
 "cells": [
  {
   "cell_type": "code",
   "execution_count": 1,
   "metadata": {
    "collapsed": true
   },
   "outputs": [],
   "source": [
    "import pandas as pd\n",
    "import gensim\n",
    "from gensim.models import KeyedVectors\n",
    "from scipy import random, linalg, dot, diag, all, allclose, sparse"
   ]
  },
  {
   "cell_type": "code",
   "execution_count": null,
   "metadata": {},
   "outputs": [],
   "source": [
    "dim = 500\n",
    "\n",
    "sparse_pmim = sparse.load_npz(\"pmi_k5_10000.npz\").toarray()\n",
    "\n",
    "q, r, p = linalg.qr(sparse_pmim, mode='economic', pivoting= True) \n",
    "\n",
    "R_sored = r[:, np.argsort(p)] \n",
    "R_sorted_dim = np.transpose(R_sorted[:dim,:])"
   ]
  },
  {
   "cell_type": "code",
   "execution_count": null,
   "metadata": {
    "collapsed": true
   },
   "outputs": [],
   "source": [
    "my_data = pd.DataFrame(R_sorted_dim)\n",
    "my_data.to_csv('your_qr_vectors', sep=\" \", index=False, header=False)"
   ]
  },
  {
   "cell_type": "markdown",
   "metadata": {},
   "source": [
    "** Here, you should type to terminal:**\n",
    "\n",
    "**paste -d ' ' your_column_name your_qr_vectors > your_qr_file_for_gensim**\n",
    "\n",
    "#In the next line, dim1, dim2 = shape of R matrix \n",
    "\n",
    "**sed -i '1i dim1 dim2' your_qr_file_for_gensim **"
   ]
  },
  {
   "cell_type": "code",
   "execution_count": null,
   "metadata": {
    "collapsed": true
   },
   "outputs": [],
   "source": [
    "model = gensim.models.KeyedVectors.load_word2vec_format('your_qr_file_for_gensim', binary=False)\n",
    "\n",
    "test_data_dir = '{}'.format(os.sep).join([gensim.__path__[0], 'test', 'test_data']) + os.sep\n",
    "print(test_data_dir)\n",
    "model.evaluate_word_pairs(test_data_dir +'wordsim353.tsv')"
   ]
  },
  {
   "cell_type": "code",
   "execution_count": null,
   "metadata": {
    "collapsed": true
   },
   "outputs": [],
   "source": [
    "acc = model2.accuracy(test_data_dir + 'questions-words.txt')\n",
    "corr_num = sum([len(section[\"correct\"]) for section in acc])\n",
    "incorr_num = sum([len(section[\"incorrect\"]) for section in acc])\n",
    "print(corr_num/(corr_num+incorr_num))"
   ]
  }
 ],
 "metadata": {
  "kernelspec": {
   "display_name": "Python 3",
   "language": "python",
   "name": "python3"
  },
  "language_info": {
   "codemirror_mode": {
    "name": "ipython",
    "version": 3
   },
   "file_extension": ".py",
   "mimetype": "text/x-python",
   "name": "python",
   "nbconvert_exporter": "python",
   "pygments_lexer": "ipython3",
   "version": "3.5.2"
  }
 },
 "nbformat": 4,
 "nbformat_minor": 2
}
